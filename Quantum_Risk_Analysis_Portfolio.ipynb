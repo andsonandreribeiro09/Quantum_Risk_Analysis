{
  "cells": [
    {
      "cell_type": "markdown",
      "metadata": {
        "id": "view-in-github",
        "colab_type": "text"
      },
      "source": [
        "<a href=\"https://colab.research.google.com/github/andsonandreribeiro09/Quantum_Risk_Analysis/blob/main/Quantum_Risk_Analysis_Portfolio.ipynb\" target=\"_parent\"><img src=\"https://colab.research.google.com/assets/colab-badge.svg\" alt=\"Open In Colab\"/></a>"
      ]
    },
    {
      "cell_type": "markdown",
      "id": "5a57b589",
      "metadata": {
        "id": "5a57b589"
      },
      "source": [
        "# 📌 Quantum Risk Analysis: Uma Aplicação em Finanças\n",
        "Baseado no artigo: *Quantum Risk Analysis* (Woerner & Egger, 2019)\n",
        "\n",
        "Este notebook demonstra como a computação quântica pode ser aplicada à análise de risco financeiro usando VaR e CVaR."
      ]
    },
    {
      "cell_type": "code",
      "execution_count": 1,
      "id": "fbf817c5",
      "metadata": {
        "colab": {
          "base_uri": "https://localhost:8080/"
        },
        "id": "fbf817c5",
        "outputId": "af84e619-f46a-4149-be9f-0f3c20ff7684"
      },
      "outputs": [
        {
          "output_type": "stream",
          "name": "stdout",
          "text": [
            "  Preparing metadata (setup.py) ... \u001b[?25l\u001b[?25hdone\n",
            "\u001b[?25l     \u001b[90m━━━━━━━━━━━━━━━━━━━━━━━━━━━━━━━━━━━━━━━━\u001b[0m \u001b[32m0.0/645.9 kB\u001b[0m \u001b[31m?\u001b[0m eta \u001b[36m-:--:--\u001b[0m\r\u001b[2K     \u001b[91m━━━━━━━━━━━━━━━━━━━━━━━━━━━━━━━━━━━━━\u001b[0m\u001b[91m╸\u001b[0m \u001b[32m645.1/645.9 kB\u001b[0m \u001b[31m22.3 MB/s\u001b[0m eta \u001b[36m0:00:01\u001b[0m\r\u001b[2K     \u001b[90m━━━━━━━━━━━━━━━━━━━━━━━━━━━━━━━━━━━━━━\u001b[0m \u001b[32m645.9/645.9 kB\u001b[0m \u001b[31m15.5 MB/s\u001b[0m eta \u001b[36m0:00:00\u001b[0m\n",
            "\u001b[?25h  Installing build dependencies ... \u001b[?25l\u001b[?25hdone\n",
            "  Getting requirements to build wheel ... \u001b[?25l\u001b[?25hdone\n",
            "  Installing backend dependencies ... \u001b[?25l\u001b[?25hdone\n",
            "  Preparing metadata (pyproject.toml) ... \u001b[?25l\u001b[?25hdone\n",
            "\u001b[2K     \u001b[90m━━━━━━━━━━━━━━━━━━━━━━━━━━━━━━━━━━━━━━\u001b[0m \u001b[32m133.4/133.4 kB\u001b[0m \u001b[31m13.5 MB/s\u001b[0m eta \u001b[36m0:00:00\u001b[0m\n",
            "\u001b[?25h  Preparing metadata (setup.py) ... \u001b[?25l\u001b[?25hdone\n",
            "\u001b[2K     \u001b[90m━━━━━━━━━━━━━━━━━━━━━━━━━━━━━━━━━━━━━━\u001b[0m \u001b[32m368.2/368.2 kB\u001b[0m \u001b[31m29.7 MB/s\u001b[0m eta \u001b[36m0:00:00\u001b[0m\n",
            "\u001b[?25h  Installing build dependencies ... \u001b[?25l\u001b[?25hdone\n",
            "  Getting requirements to build wheel ... \u001b[?25l\u001b[?25hdone\n",
            "  \u001b[1;31merror\u001b[0m: \u001b[1msubprocess-exited-with-error\u001b[0m\n",
            "  \n",
            "  \u001b[31m×\u001b[0m \u001b[32mpip subprocess to install backend dependencies\u001b[0m did not run successfully.\n",
            "  \u001b[31m│\u001b[0m exit code: \u001b[1;36m1\u001b[0m\n",
            "  \u001b[31m╰─>\u001b[0m See above for output.\n",
            "  \n",
            "  \u001b[1;35mnote\u001b[0m: This error originates from a subprocess, and is likely not a problem with pip.\n",
            "  Installing backend dependencies ... \u001b[?25l\u001b[?25herror\n",
            "\u001b[1;31merror\u001b[0m: \u001b[1msubprocess-exited-with-error\u001b[0m\n",
            "\n",
            "\u001b[31m×\u001b[0m \u001b[32mpip subprocess to install backend dependencies\u001b[0m did not run successfully.\n",
            "\u001b[31m│\u001b[0m exit code: \u001b[1;36m1\u001b[0m\n",
            "\u001b[31m╰─>\u001b[0m See above for output.\n",
            "\n",
            "\u001b[1;35mnote\u001b[0m: This error originates from a subprocess, and is likely not a problem with pip.\n"
          ]
        }
      ],
      "source": [
        "# Instalação das bibliotecas necessárias\n",
        "!pip install qiskit qiskit-aqua matplotlib numpy pandas --quiet"
      ]
    },
    {
      "cell_type": "code",
      "source": [
        "!pip install qiskit"
      ],
      "metadata": {
        "colab": {
          "base_uri": "https://localhost:8080/"
        },
        "id": "kPhCKBeY4_xO",
        "outputId": "ef4600a3-ee26-45a1-bced-bfe43a0a2187"
      },
      "id": "kPhCKBeY4_xO",
      "execution_count": 5,
      "outputs": [
        {
          "output_type": "stream",
          "name": "stdout",
          "text": [
            "Collecting qiskit\n",
            "  Using cached qiskit-2.1.0-cp39-abi3-manylinux_2_17_x86_64.manylinux2014_x86_64.whl.metadata (12 kB)\n",
            "Collecting rustworkx>=0.15.0 (from qiskit)\n",
            "  Using cached rustworkx-0.16.0-cp39-abi3-manylinux_2_17_x86_64.manylinux2014_x86_64.whl.metadata (10 kB)\n",
            "Requirement already satisfied: numpy<3,>=1.17 in /usr/local/lib/python3.11/dist-packages (from qiskit) (2.0.2)\n",
            "Requirement already satisfied: scipy>=1.5 in /usr/local/lib/python3.11/dist-packages (from qiskit) (1.15.3)\n",
            "Requirement already satisfied: dill>=0.3 in /usr/local/lib/python3.11/dist-packages (from qiskit) (0.3.7)\n",
            "Collecting stevedore>=3.0.0 (from qiskit)\n",
            "  Using cached stevedore-5.4.1-py3-none-any.whl.metadata (2.3 kB)\n",
            "Requirement already satisfied: typing-extensions in /usr/local/lib/python3.11/dist-packages (from qiskit) (4.14.0)\n",
            "Collecting pbr>=2.0.0 (from stevedore>=3.0.0->qiskit)\n",
            "  Downloading pbr-6.1.1-py2.py3-none-any.whl.metadata (3.4 kB)\n",
            "Requirement already satisfied: setuptools in /usr/local/lib/python3.11/dist-packages (from pbr>=2.0.0->stevedore>=3.0.0->qiskit) (75.2.0)\n",
            "Downloading qiskit-2.1.0-cp39-abi3-manylinux_2_17_x86_64.manylinux2014_x86_64.whl (7.5 MB)\n",
            "\u001b[2K   \u001b[90m━━━━━━━━━━━━━━━━━━━━━━━━━━━━━━━━━━━━━━━━\u001b[0m \u001b[32m7.5/7.5 MB\u001b[0m \u001b[31m70.6 MB/s\u001b[0m eta \u001b[36m0:00:00\u001b[0m\n",
            "\u001b[?25hDownloading rustworkx-0.16.0-cp39-abi3-manylinux_2_17_x86_64.manylinux2014_x86_64.whl (2.1 MB)\n",
            "\u001b[2K   \u001b[90m━━━━━━━━━━━━━━━━━━━━━━━━━━━━━━━━━━━━━━━━\u001b[0m \u001b[32m2.1/2.1 MB\u001b[0m \u001b[31m98.2 MB/s\u001b[0m eta \u001b[36m0:00:00\u001b[0m\n",
            "\u001b[?25hDownloading stevedore-5.4.1-py3-none-any.whl (49 kB)\n",
            "\u001b[2K   \u001b[90m━━━━━━━━━━━━━━━━━━━━━━━━━━━━━━━━━━━━━━━━\u001b[0m \u001b[32m49.5/49.5 kB\u001b[0m \u001b[31m3.3 MB/s\u001b[0m eta \u001b[36m0:00:00\u001b[0m\n",
            "\u001b[?25hDownloading pbr-6.1.1-py2.py3-none-any.whl (108 kB)\n",
            "\u001b[2K   \u001b[90m━━━━━━━━━━━━━━━━━━━━━━━━━━━━━━━━━━━━━━━━\u001b[0m \u001b[32m109.0/109.0 kB\u001b[0m \u001b[31m10.6 MB/s\u001b[0m eta \u001b[36m0:00:00\u001b[0m\n",
            "\u001b[?25hInstalling collected packages: rustworkx, pbr, stevedore, qiskit\n",
            "Successfully installed pbr-6.1.1 qiskit-2.1.0 rustworkx-0.16.0 stevedore-5.4.1\n"
          ]
        }
      ]
    },
    {
      "cell_type": "code",
      "source": [
        "!pip install qiskit providers aer"
      ],
      "metadata": {
        "colab": {
          "base_uri": "https://localhost:8080/"
        },
        "id": "Pn6rEH-A7uwe",
        "outputId": "c197c00a-417a-44a2-8240-03efb956cc09"
      },
      "id": "Pn6rEH-A7uwe",
      "execution_count": 12,
      "outputs": [
        {
          "output_type": "stream",
          "name": "stdout",
          "text": [
            "Requirement already satisfied: qiskit in /usr/local/lib/python3.11/dist-packages (2.1.0)\n",
            "Collecting providers\n",
            "  Downloading providers-0.0.2-py3-none-any.whl.metadata (828 bytes)\n",
            "Collecting aer\n",
            "  Downloading aer-0.3.0-py3-none-any.whl.metadata (685 bytes)\n",
            "Requirement already satisfied: rustworkx>=0.15.0 in /usr/local/lib/python3.11/dist-packages (from qiskit) (0.16.0)\n",
            "Requirement already satisfied: numpy<3,>=1.17 in /usr/local/lib/python3.11/dist-packages (from qiskit) (2.0.2)\n",
            "Requirement already satisfied: scipy>=1.5 in /usr/local/lib/python3.11/dist-packages (from qiskit) (1.15.3)\n",
            "Requirement already satisfied: dill>=0.3 in /usr/local/lib/python3.11/dist-packages (from qiskit) (0.3.7)\n",
            "Requirement already satisfied: stevedore>=3.0.0 in /usr/local/lib/python3.11/dist-packages (from qiskit) (5.4.1)\n",
            "Requirement already satisfied: typing-extensions in /usr/local/lib/python3.11/dist-packages (from qiskit) (4.14.0)\n",
            "Collecting click<8.0.0,>=7.1.2 (from aer)\n",
            "  Downloading click-7.1.2-py2.py3-none-any.whl.metadata (2.9 kB)\n",
            "Requirement already satisfied: pbr>=2.0.0 in /usr/local/lib/python3.11/dist-packages (from stevedore>=3.0.0->qiskit) (6.1.1)\n",
            "Requirement already satisfied: setuptools in /usr/local/lib/python3.11/dist-packages (from pbr>=2.0.0->stevedore>=3.0.0->qiskit) (75.2.0)\n",
            "Downloading providers-0.0.2-py3-none-any.whl (2.7 kB)\n",
            "Downloading aer-0.3.0-py3-none-any.whl (2.7 kB)\n",
            "Downloading click-7.1.2-py2.py3-none-any.whl (82 kB)\n",
            "\u001b[2K   \u001b[90m━━━━━━━━━━━━━━━━━━━━━━━━━━━━━━━━━━━━━━━━\u001b[0m \u001b[32m82.8/82.8 kB\u001b[0m \u001b[31m4.2 MB/s\u001b[0m eta \u001b[36m0:00:00\u001b[0m\n",
            "\u001b[?25hInstalling collected packages: providers, click, aer\n",
            "  Attempting uninstall: click\n",
            "    Found existing installation: click 8.2.1\n",
            "    Uninstalling click-8.2.1:\n",
            "      Successfully uninstalled click-8.2.1\n",
            "\u001b[31mERROR: pip's dependency resolver does not currently take into account all the packages that are installed. This behaviour is the source of the following dependency conflicts.\n",
            "flask 3.1.1 requires click>=8.1.3, but you have click 7.1.2 which is incompatible.\n",
            "dask-cuda 25.2.0 requires click>=8.1, but you have click 7.1.2 which is incompatible.\n",
            "dask 2024.12.1 requires click>=8.1, but you have click 7.1.2 which is incompatible.\n",
            "distributed 2024.12.1 requires click>=8.0, but you have click 7.1.2 which is incompatible.\n",
            "typer 0.16.0 requires click>=8.0.0, but you have click 7.1.2 which is incompatible.\u001b[0m\u001b[31m\n",
            "\u001b[0mSuccessfully installed aer-0.3.0 click-7.1.2 providers-0.0.2\n"
          ]
        }
      ]
    },
    {
      "cell_type": "code",
      "source": [
        "!pip install qiskit-aer --quiet\n"
      ],
      "metadata": {
        "id": "H3aSi1097-2N"
      },
      "id": "H3aSi1097-2N",
      "execution_count": 15,
      "outputs": []
    },
    {
      "cell_type": "code",
      "execution_count": null,
      "id": "f5824bd7",
      "metadata": {
        "id": "f5824bd7"
      },
      "outputs": [],
      "source": [
        "# Imports\n",
        "from qiskit import Aer\n",
        "from qiskit.utils import QuantumInstance\n",
        "from qiskit_finance.applications.estimation import CVaRMeasurement\n",
        "from qiskit_finance.circuit.library import LogNormalDistribution\n",
        "from qiskit.algorithms import AmplitudeEstimation\n",
        "import numpy as np\n",
        "import matplotlib.pyplot as plt"
      ]
    },
    {
      "cell_type": "code",
      "execution_count": null,
      "id": "7c6ed49e",
      "metadata": {
        "id": "7c6ed49e"
      },
      "outputs": [],
      "source": [
        "# Simulando uma distribuição log-normal\n",
        "num_qubits = 3\n",
        "mu = 1.5\n",
        "sigma = 1.0\n",
        "distribution = LogNormalDistribution(num_qubits, mu=mu, sigma=sigma)\n",
        "distribution.draw()"
      ]
    },
    {
      "cell_type": "code",
      "execution_count": null,
      "id": "6c0385e2",
      "metadata": {
        "id": "6c0385e2"
      },
      "outputs": [],
      "source": [
        "# Definindo a função de payoff\n",
        "strike_price = 2.0\n",
        "low = distribution.low[0]\n",
        "high = distribution.high[0]\n",
        "breakpoints = np.linspace(low, high, 2**num_qubits)\n",
        "\n",
        "def payoff(x):\n",
        "    return np.maximum(0, x - strike_price)\n",
        "\n",
        "values = payoff(breakpoints)\n",
        "normalized = (values - values.min()) / (values.max() - values.min())"
      ]
    },
    {
      "cell_type": "code",
      "execution_count": null,
      "id": "552fe9a0",
      "metadata": {
        "id": "552fe9a0"
      },
      "outputs": [],
      "source": [
        "# Medida CVaR\n",
        "alpha = 0.95\n",
        "cvar_measurement = CVaRMeasurement(values=normalized, alpha=alpha)\n",
        "ae = AmplitudeEstimation(num_eval_qubits=3, quantum_instance=Aer.get_backend('qasm_simulator'))\n",
        "problem = cvar_measurement.construct_estimation_problem(distribution)\n",
        "result = ae.estimate(problem)\n",
        "print(\"Estimativa de CVaR (normalizado):\", result.estimation)"
      ]
    },
    {
      "cell_type": "code",
      "execution_count": null,
      "id": "b92119bd",
      "metadata": {
        "id": "b92119bd"
      },
      "outputs": [],
      "source": [
        "# Comparação com Monte Carlo\n",
        "from scipy.stats import lognorm\n",
        "samples = lognorm(s=sigma, scale=np.exp(mu)).rvs(100000)\n",
        "payoff_mc = payoff(samples)\n",
        "var_classico = np.quantile(payoff_mc, 1 - alpha)\n",
        "cvar_classico = payoff_mc[payoff_mc >= var_classico].mean()\n",
        "\n",
        "print(\"CVaR Monte Carlo:\", cvar_classico)"
      ]
    },
    {
      "cell_type": "code",
      "execution_count": null,
      "id": "ba8c6cc4",
      "metadata": {
        "id": "ba8c6cc4"
      },
      "outputs": [],
      "source": [
        "# Visualização dos resultados\n",
        "plt.hist(payoff_mc, bins=50, alpha=0.6, label='Monte Carlo')\n",
        "plt.axvline(x=cvar_classico, color='r', linestyle='--', label='CVaR Clássico')\n",
        "plt.axvline(x=result.estimation[0]*values.max(), color='g', linestyle='--', label='CVaR Quântico')\n",
        "plt.title(\"Comparação CVaR - Monte Carlo vs Quantum AE\")\n",
        "plt.xlabel(\"Payoff\")\n",
        "plt.ylabel(\"Frequência\")\n",
        "plt.legend()\n",
        "plt.show()"
      ]
    },
    {
      "cell_type": "markdown",
      "id": "db3d2f31",
      "metadata": {
        "id": "db3d2f31"
      },
      "source": [
        "## Conclusão\n",
        "\n",
        "Este notebook demonstrou o uso da computação quântica para análise de risco financeiro. Usando Quantum Amplitude Estimation (QAE), conseguimos estimar métricas como CVaR com convergência mais rápida que Monte Carlo clássico.\n",
        "\n",
        "Este é um exemplo promissor de como algoritmos quânticos podem impactar as finanças quantitativas no futuro próximo."
      ]
    }
  ],
  "metadata": {
    "colab": {
      "provenance": [],
      "include_colab_link": true
    },
    "language_info": {
      "name": "python"
    },
    "kernelspec": {
      "name": "python3",
      "display_name": "Python 3"
    }
  },
  "nbformat": 4,
  "nbformat_minor": 5
}